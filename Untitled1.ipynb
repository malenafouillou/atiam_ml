{
 "cells": [
  {
   "cell_type": "markdown",
   "id": "209f4493-80d6-454f-ba22-da5c5b4db6fa",
   "metadata": {},
   "source": [
    "# COURS_O : machine learning\n",
    "\n",
    "\n",
    "## Optimisation : \n",
    "- trouver bon polynome, p = ordre du polynome, là 2 est la capacité optimale. Over feating ---> s'il y a de bruit part exemple\n",
    "- capacité d'un polynome = son ordre\n",
    "- cross validation = dans tous exemples, la plupart sont pour apprendre, certains sont pour la validation \n",
    "\n",
    "\n",
    "\n",
    "Pour un ensemble de points d'apprentissage, certains ne sont pas pris en compte. Le modèle va se rapprocher des points d'apprentissage. S'il overfeat, il va passer par tout ces points mais pas ceux qui sont sortis de l'ensemble des exemples. A moins qu'on ait une énorme quantité d'exemples, mais il y a toujours le problème des points de bruit.\n",
    "\n",
    "\n",
    "\n",
    "\n",
    "Attention ! première question : quelles sont les propriétés des mesures que j'observe ?\n",
    "\n",
    "\n",
    "\n",
    "\n",
    "Bien choisir la représentation ! Une wave form n'est pas optimale, mais un spectrogramme est mieux par exemple. \n",
    "Important de choisir des bon descripteurs, simples.\n"
   ]
  },
  {
   "cell_type": "markdown",
   "id": "ecb0a85b-baa4-4269-8e8f-8eea8ce5008f",
   "metadata": {},
   "source": [
    "Pour connaître la classe, on suppose qu'on connaît déjà des caractéristiques d'un, on chercher celui dont on se rapproche le plus\n",
    "\n"
   ]
  }
 ],
 "metadata": {
  "kernelspec": {
   "display_name": "Python 3",
   "language": "python",
   "name": "python3"
  },
  "language_info": {
   "codemirror_mode": {
    "name": "ipython",
    "version": 3
   },
   "file_extension": ".py",
   "mimetype": "text/x-python",
   "name": "python",
   "nbconvert_exporter": "python",
   "pygments_lexer": "ipython3",
   "version": "3.8.8"
  }
 },
 "nbformat": 4,
 "nbformat_minor": 5
}
